{
 "cells": [
  {
   "cell_type": "markdown",
   "id": "54f839a8-7381-44fa-87f0-5e16abcf6cb6",
   "metadata": {},
   "source": [
    "## Fuction\n"
   ]
  },
  {
   "cell_type": "markdown",
   "id": "b0211344-32b1-4f0e-a439-1f808e1160da",
   "metadata": {},
   "source": [
    "def greet(name):\n",
    "    \"\"\"Greets a person by their name.\"\"\"\"\n",
    "    return f\"Hello,{name}!\"calling the function \""
   ]
  },
  {
   "cell_type": "code",
   "execution_count": null,
   "id": "68bd6bf9-b0b4-417a-a2b9-9e5083a965ed",
   "metadata": {},
   "outputs": [],
   "source": [
    "result "
   ]
  },
  {
   "cell_type": "code",
   "execution_count": 7,
   "id": "97d39466-0997-43ea-9a5b-7d5fafed11ed",
   "metadata": {},
   "outputs": [
    {
     "name": "stdout",
     "output_type": "stream",
     "text": [
      "15\n"
     ]
    }
   ],
   "source": [
    "def add(a,b):\n",
    "    \"\"\"\n",
    "    Function help or instructions\n",
    "    Return the sum of two numbers.\n",
    "    \"\"\"\n",
    "    return a+b \n",
    "result=add(6,9)\n",
    "print(result)"
   ]
  },
  {
   "cell_type": "markdown",
   "id": "2f4265e9-f700-4454-a247-06fd3f2cf678",
   "metadata": {},
   "source": [
    "Ques - Write a programe to add three numbers and return its value ."
   ]
  },
  {
   "cell_type": "code",
   "execution_count": 4,
   "id": "a4b52a05-c224-4b15-8fcb-af5e7c5c30c8",
   "metadata": {},
   "outputs": [
    {
     "name": "stdout",
     "output_type": "stream",
     "text": [
      "18\n"
     ]
    }
   ],
   "source": [
    "def getadd(a,b,c):\n",
    "    return a+b+c\n",
    "\n",
    "result=getadd(5,6,7)\n",
    "print(result)\n",
    "    "
   ]
  },
  {
   "cell_type": "code",
   "execution_count": 12,
   "id": "98406562-4131-4e0b-8921-42315a320dce",
   "metadata": {},
   "outputs": [],
   "source": [
    "def sum(a,*args): #args #value\n",
    "    \"\"\"\n",
    "    This fuction takes mandotary arguments \n",
    "    and other fuctional request\n",
    "    and return its sum\n",
    "    \"\"\"\n",
    "    \n",
    "    print(a)\n",
    "    print(args)\n",
    "    res=a\n",
    "    for i in range (0,len(args)):\n",
    "        res=res + args[i]\n",
    "        return res"
   ]
  },
  {
   "cell_type": "code",
   "execution_count": null,
   "id": "82436b03-d186-44d1-a0f4-42c69c9c9bd4",
   "metadata": {},
   "outputs": [],
   "source": []
  },
  {
   "cell_type": "code",
   "execution_count": 15,
   "id": "690c11d8-803f-4a6b-99f1-986e102c7ee4",
   "metadata": {},
   "outputs": [
    {
     "ename": "SyntaxError",
     "evalue": "expected ':' (360492537.py, line 6)",
     "output_type": "error",
     "traceback": [
      "\u001b[1;36m  Cell \u001b[1;32mIn[15], line 6\u001b[1;36m\u001b[0m\n\u001b[1;33m    def printDictionary(dict1)\u001b[0m\n\u001b[1;37m                              ^\u001b[0m\n\u001b[1;31mSyntaxError\u001b[0m\u001b[1;31m:\u001b[0m expected ':'\n"
     ]
    }
   ],
   "source": [
    "dict1 ={\n",
    "    \"name\":\"Dhruv\",\n",
    "    \"Batch\":\"B1\",\n",
    "    \"ClassTime\":\"8:AM\"\n",
    "}\n",
    "def printDictionary(dict1)"
   ]
  },
  {
   "cell_type": "code",
   "execution_count": null,
   "id": "b9dbff2f-89ec-4aa7-b717-596bc5f64889",
   "metadata": {},
   "outputs": [],
   "source": []
  }
 ],
 "metadata": {
  "kernelspec": {
   "display_name": "Python 3 (ipykernel)",
   "language": "python",
   "name": "python3"
  },
  "language_info": {
   "codemirror_mode": {
    "name": "ipython",
    "version": 3
   },
   "file_extension": ".py",
   "mimetype": "text/x-python",
   "name": "python",
   "nbconvert_exporter": "python",
   "pygments_lexer": "ipython3",
   "version": "3.12.4"
  }
 },
 "nbformat": 4,
 "nbformat_minor": 5
}
