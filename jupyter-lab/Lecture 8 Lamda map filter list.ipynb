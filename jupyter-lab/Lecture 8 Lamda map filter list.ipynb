{
 "cells": [
  {
   "cell_type": "code",
   "execution_count": 1,
   "id": "8932890d-4dfc-49b9-b70c-633ae2845973",
   "metadata": {},
   "outputs": [
    {
     "data": {
      "text/plain": [
       "30"
      ]
     },
     "execution_count": 1,
     "metadata": {},
     "output_type": "execute_result"
    }
   ],
   "source": [
    "# Lamda map. filter list comprehension\n",
    "\n",
    "# function to add two variables\n",
    "\n",
    "def myadd1(a,b):\n",
    "    res=a+b\n",
    "    return res\n",
    "\n",
    "\n",
    "a=10\n",
    "b=20\n",
    "res=myadd1(a,b)\n",
    "res"
   ]
  },
  {
   "cell_type": "code",
   "execution_count": 2,
   "id": "8525deda-524d-4ace-932a-05b03eb746de",
   "metadata": {},
   "outputs": [
    {
     "name": "stdout",
     "output_type": "stream",
     "text": [
      "8\n"
     ]
    }
   ],
   "source": [
    "# Lambda function: used only one time\n",
    "# Lambda funtion to add two numbers\n",
    "\n",
    "add=lambda a,b: a+b\n",
    "print(add(3,5))  #Output: * using a lambda function with map\n"
   ]
  },
  {
   "cell_type": "code",
   "execution_count": 11,
   "id": "2ccd085b-f0c0-4a08-b032-c3d387f783d7",
   "metadata": {},
   "outputs": [
    {
     "name": "stdout",
     "output_type": "stream",
     "text": [
      "15\n"
     ]
    },
    {
     "name": "stdin",
     "output_type": "stream",
     "text": [
      "enter value 15\n",
      "enter value 35\n"
     ]
    },
    {
     "name": "stdout",
     "output_type": "stream",
     "text": [
      "525\n"
     ]
    }
   ],
   "source": [
    "# Write a program multiply two variables using lambda function\n",
    "mul=lambda a,b: a*b\n",
    "print(mul(3,5))\n",
    "\n",
    "# by using a normal function with def\n",
    "def mul1(a,b):\n",
    "    return a*b\n",
    "\n",
    "a=int(input(\"enter value\"))\n",
    "b=int(input(\"enter value\"))\n",
    "\n",
    "res =mul1(a,b)\n",
    "print(res)"
   ]
  },
  {
   "cell_type": "code",
   "execution_count": 19,
   "id": "0c4d0ad0-9401-44b2-bf69-e1280c50da0c",
   "metadata": {},
   "outputs": [
    {
     "name": "stdout",
     "output_type": "stream",
     "text": [
      "[1, 4, 9, 16, 25]\n"
     ]
    }
   ],
   "source": [
    "#using map to square each number in a list\n",
    "\n",
    "numbers=[1,2,3,4,5]\n",
    "squared=map(lambda x:x*x, numbers)\n",
    "print(list(squared))"
   ]
  },
  {
   "cell_type": "markdown",
   "id": "65b7c2af-5d8e-489e-a041-7a4e81080a97",
   "metadata": {},
   "source": [
    "# Write a program to square each number in a list without using map and lambda"
   ]
  },
  {
   "cell_type": "code",
   "execution_count": 29,
   "id": "54bd1e7b-5f10-4529-84ef-9b9b882ae795",
   "metadata": {},
   "outputs": [
    {
     "name": "stdout",
     "output_type": "stream",
     "text": [
      "list after square each element is -> [1, 25, 49, 64, 81]\n"
     ]
    }
   ],
   "source": [
    "list1=[1,5,7,8,9]\n",
    "list2=[]\n",
    "\n",
    "for i in list1:\n",
    "    result=i*i\n",
    "    list2.append(result)\n",
    "\n",
    "print(f\"list after square each element is -> {list2}\")"
   ]
  },
  {
   "cell_type": "code",
   "execution_count": 33,
   "id": "7a794c69-03ec-4d09-8165-7ba342b9d16e",
   "metadata": {},
   "outputs": [
    {
     "name": "stdout",
     "output_type": "stream",
     "text": [
      "[2, 4]\n"
     ]
    }
   ],
   "source": [
    "#Filter applies a function to each item\n",
    "even_numbers=filter(lambda x:x%2==0, numbers)\n",
    "print(list(even_numbers))"
   ]
  },
  {
   "cell_type": "markdown",
   "id": "bf577704-a4bc-439b-8c19-407df08f11fe",
   "metadata": {},
   "source": [
    "# Write a program create a list of square of even number from 0 to 9"
   ]
  },
  {
   "cell_type": "code",
   "execution_count": 39,
   "id": "f0ceea21-5938-496e-82d1-58bbd3da65cc",
   "metadata": {},
   "outputs": [
    {
     "name": "stdout",
     "output_type": "stream",
     "text": [
      "[0, 4, 16, 36, 64]\n"
     ]
    }
   ],
   "source": [
    "#without list comprehension\n",
    "squares=[]\n",
    "for i in range(10):\n",
    "    if i%2==0:\n",
    "        squares.append(i**2)\n",
    "\n",
    "print(squares)"
   ]
  },
  {
   "cell_type": "code",
   "execution_count": 41,
   "id": "cc949d27-9a24-43b7-a1cc-255e9993f4ef",
   "metadata": {},
   "outputs": [],
   "source": [
    "#with list comprehension\n",
    "squares=[i**2 for i in range(10) if i%2==0]"
   ]
  },
  {
   "cell_type": "markdown",
   "id": "7b727577-cc42-44bd-840d-69576487cb15",
   "metadata": {},
   "source": [
    "# Write a program containing your sap id and return a list of email address"
   ]
  },
  {
   "cell_type": "code",
   "execution_count": 1,
   "id": "9c52d212-5c52-454d-aff7-d5d4330883b8",
   "metadata": {},
   "outputs": [
    {
     "name": "stdout",
     "output_type": "stream",
     "text": [
      "student email id is->Pathak10306stu.upes.ac.in\n"
     ]
    }
   ],
   "source": [
    "ans=\"stu.upes.ac.in\"\n",
    "sap_id=\"590010306\"\n",
    "name=\"Janardan Pathak\"\n",
    "val=name[9:]+sap_id[4:]+ans\n",
    "print(f\"student email id is->{val}\")"
   ]
  },
  {
   "cell_type": "markdown",
   "id": "17d519a1-dc35-473c-8f76-754af84e3d0e",
   "metadata": {},
   "source": [
    "# write a program that take email address from user and message from user and using SMTP library send msg to all the email address"
   ]
  },
  {
   "cell_type": "code",
   "execution_count": null,
   "id": "270318ac-69eb-454f-a9d3-cc8e1bc9da43",
   "metadata": {},
   "outputs": [],
   "source": []
  },
  {
   "cell_type": "markdown",
   "id": "d8b2c39e-b583-4acb-ba8c-006edf776b53",
   "metadata": {},
   "source": [
    "# Write a program that print current time that pause for 2 seconds and again print current time"
   ]
  },
  {
   "cell_type": "code",
   "execution_count": 63,
   "id": "96f7085d-6d00-4cfd-97b0-7d3bdaadd23d",
   "metadata": {},
   "outputs": [
    {
     "name": "stdout",
     "output_type": "stream",
     "text": [
      "current time (in seconds): 1725939621.784853\n"
     ]
    }
   ],
   "source": [
    "import time\n",
    "# Get current time in seconds since the epoch(unix timestammp)\n",
    "current_time=time.time()\n",
    "print(\"current time (in seconds):\", current_time)"
   ]
  },
  {
   "cell_type": "code",
   "execution_count": 69,
   "id": "f4c5dc11-51b1-405e-ba8d-92df093bb841",
   "metadata": {},
   "outputs": [
    {
     "name": "stdout",
     "output_type": "stream",
     "text": [
      "current time (in seconds): 1725940140.1678436\n",
      "Pause for 2 seconds:\n",
      "current time (in seconds): 1725940142.1689856\n"
     ]
    }
   ],
   "source": [
    "# end after 2 seconds\n",
    "current_time=time.time()\n",
    "print(\"current time (in seconds):\", current_time)\n",
    "time.sleep(2) # Pause execution for 2 seconds\n",
    "print(\"Pause for 2 seconds:\")\n",
    "current_time=time.time()\n",
    "print(\"current time (in seconds):\", current_time)"
   ]
  },
  {
   "cell_type": "markdown",
   "id": "71b78eb4-d128-4ecf-874f-045ffea50c9f",
   "metadata": {},
   "source": [
    "# Write a program that take directory address from user and returns the list of files and directories in that address"
   ]
  },
  {
   "cell_type": "code",
   "execution_count": 7,
   "id": "cc1b5a24-c011-4697-a6b3-ac831d81a2a5",
   "metadata": {},
   "outputs": [],
   "source": [
    "import os"
   ]
  },
  {
   "cell_type": "code",
   "execution_count": 8,
   "id": "41ac9f9b-601a-4235-8956-dcee52ac58ec",
   "metadata": {},
   "outputs": [],
   "source": [
    "def list_contents():\n",
    "    # Take directory address from user\n",
    "    directory = input(\"Enter the directory path: \")\n",
    "\n",
    "    # Check if the directory exists\n",
    "    if os.path.exists(directory):\n",
    "        # List files and directories in the given address\n",
    "        contents = os.listdir(directory)\n",
    "        return contents\n",
    "    else:\n",
    "        return \"Directory does not exist.\"\n"
   ]
  },
  {
   "cell_type": "code",
   "execution_count": 10,
   "id": "5f02aff9-4f22-4e97-9c6f-7f7b1c9b2435",
   "metadata": {},
   "outputs": [
    {
     "name": "stdin",
     "output_type": "stream",
     "text": [
      "Enter the directory path:  /home/tsuki/Downloads/\n"
     ]
    },
    {
     "name": "stdout",
     "output_type": "stream",
     "text": [
      "dedsec-theme.py\n",
      "Janardan_resume.pdf\n",
      "dedsec\n",
      "Amcat Batch Re-Bifurcation.xlsx\n",
      "Janardan Pathak resume-2.docx\n",
      "Janardan Pathak resume.pdf\n",
      "Cybersecurity Domains 3.1.png\n",
      "Quiz-1 Solution.docx\n",
      "CV_Vishal_Cyber.docx\n",
      "C64-AnimHalloweenGhosts\n",
      "hackerden\n",
      "C64-AnimHalloweenGhosts.tar.gz\n",
      "CV_Vishal.pdf\n",
      "compact-1080p.zip\n",
      "Telegram Desktop\n",
      "Janardan Pathak resume-2.pdf\n"
     ]
    }
   ],
   "source": [
    "# Get the directory contents\n",
    "contents = list_contents()\n",
    "\n",
    "# Print the list of files and directories\n",
    "if isinstance(contents, list):\n",
    "    for item in contents:\n",
    "        print(item)\n",
    "else:\n",
    "    print(contents)"
   ]
  },
  {
   "cell_type": "code",
   "execution_count": null,
   "id": "c2b64f93-e9e0-4fec-9127-6f03f4345577",
   "metadata": {},
   "outputs": [],
   "source": []
  }
 ],
 "metadata": {
  "kernelspec": {
   "display_name": "Python 3 (ipykernel)",
   "language": "python",
   "name": "python3"
  },
  "language_info": {
   "codemirror_mode": {
    "name": "ipython",
    "version": 3
   },
   "file_extension": ".py",
   "mimetype": "text/x-python",
   "name": "python",
   "nbconvert_exporter": "python",
   "pygments_lexer": "ipython3",
   "version": "3.12.5"
  }
 },
 "nbformat": 4,
 "nbformat_minor": 5
}
