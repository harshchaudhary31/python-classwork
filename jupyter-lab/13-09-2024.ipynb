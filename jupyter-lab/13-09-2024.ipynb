{
 "cells": [
  {
   "cell_type": "markdown",
   "id": "6c7afe78-f1e2-40f9-b61c-5278823b6896",
   "metadata": {},
   "source": [
    "### WAP that takes two values from user and return devision of first form second"
   ]
  },
  {
   "cell_type": "code",
   "execution_count": null,
   "id": "add03a53-74de-421f-a22a-606c72b69d67",
   "metadata": {},
   "outputs": [],
   "source": [
    "def devide( a , b):\n",
    "    return a/b\n",
    "\n",
    "\n",
    "a = int(input(\"input first value: \"))\n",
    "b = int(input(\"input second value: \"))\n",
    "\n",
    "print(f\"Devision of {a}/{b} is {devide(a,b)}\")"
   ]
  },
  {
   "cell_type": "code",
   "execution_count": null,
   "id": "6882a305-e7ff-437b-a4c2-be0b6c4d1179",
   "metadata": {},
   "outputs": [],
   "source": [
    "#!/bin/python3\n",
    "\n",
    "email_list = []\n",
    "\n",
    "\n",
    "def generate_email_list(sap_id):\n",
    "    email_list = list(sap_id)\n",
    "    for i in email_list:\n",
    "        i.append(\"@stu.upes.ac.in\")\n",
    "    print (email_list)\n",
    "\n",
    "\n",
    "sapid = input()\n",
    "generate_email_list(sapid)"
   ]
  },
  {
   "cell_type": "code",
   "execution_count": null,
   "id": "aae95f4a-390a-471a-844c-07002f4baed3",
   "metadata": {},
   "outputs": [],
   "source": []
  }
 ],
 "metadata": {
  "kernelspec": {
   "display_name": "Python 3 (ipykernel)",
   "language": "python",
   "name": "python3"
  },
  "language_info": {
   "codemirror_mode": {
    "name": "ipython",
    "version": 3
   },
   "file_extension": ".py",
   "mimetype": "text/x-python",
   "name": "python",
   "nbconvert_exporter": "python",
   "pygments_lexer": "ipython3",
   "version": "3.12.5"
  }
 },
 "nbformat": 4,
 "nbformat_minor": 5
}
