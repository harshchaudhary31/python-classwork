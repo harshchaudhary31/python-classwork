{
 "cells": [
  {
   "cell_type": "markdown",
   "id": "1e3ee944-997e-420f-ba0c-725dd9f2d9c3",
   "metadata": {},
   "source": [
    "# Write a program that take user input in numeric form and print it in table form"
   ]
  },
  {
   "cell_type": "code",
   "execution_count": 2,
   "id": "022ef5f2-c57f-4ba7-90c1-e836efb7234a",
   "metadata": {},
   "outputs": [
    {
     "name": "stdin",
     "output_type": "stream",
     "text": [
      "Enter the numeber 3\n"
     ]
    }
   ],
   "source": [
    "num = int(input(\"Enter the numeber\"))"
   ]
  },
  {
   "cell_type": "code",
   "execution_count": 5,
   "id": "9117580e-a6cb-4bf3-8c2a-3c0c935ed14d",
   "metadata": {},
   "outputs": [
    {
     "name": "stdout",
     "output_type": "stream",
     "text": [
      "3 X 1 = 3\n",
      "3 X 2 = 6\n",
      "3 X 3 = 9\n",
      "3 X 4 = 12\n",
      "3 X 5 = 15\n",
      "3 X 6 = 18\n",
      "3 X 7 = 21\n",
      "3 X 8 = 24\n",
      "3 X 9 = 27\n",
      "3 X 10 = 30\n"
     ]
    }
   ],
   "source": [
    "for i in range(1,11):\n",
    "    print(f\"{num} X {i} = {num*i}\")"
   ]
  },
  {
   "cell_type": "markdown",
   "id": "14e65e72-0888-4420-93fb-684912e8dc5b",
   "metadata": {},
   "source": [
    "> Write a function that gives us sum, average, min and max of all the values passsed as arguments "
   ]
  },
  {
   "cell_type": "code",
   "execution_count": 19,
   "id": "d4e22bac-b092-4fe6-9487-2da39003402d",
   "metadata": {},
   "outputs": [
    {
     "name": "stdout",
     "output_type": "stream",
     "text": [
      "Sum of values is 11\n",
      "Average of value is 5.5\n",
      "maximum is 6\n",
      "Minimum is 5\n"
     ]
    }
   ],
   "source": [
    "def func(*args):\n",
    "    total=sum(args)\n",
    "    avg=total/len(args)\n",
    "    minimum = min(args)\n",
    "    maximum = max(args)\n",
    "    \n",
    "    print(f\"Sum of values is {total}\")\n",
    "    print(f\"Average of value is {avg}\")\n",
    "    print(f\"maximum is {maximum}\")\n",
    "    print(f\"Minimum is {minimum}\")\n",
    "\n",
    "func(5,6)"
   ]
  },
  {
   "cell_type": "code",
   "execution_count": null,
   "id": "7c2d8ded-252c-4928-83fb-31f11d7e4914",
   "metadata": {},
   "outputs": [],
   "source": []
  }
 ],
 "metadata": {
  "kernelspec": {
   "display_name": "Python 3 (ipykernel)",
   "language": "python",
   "name": "python3"
  },
  "language_info": {
   "codemirror_mode": {
    "name": "ipython",
    "version": 3
   },
   "file_extension": ".py",
   "mimetype": "text/x-python",
   "name": "python",
   "nbconvert_exporter": "python",
   "pygments_lexer": "ipython3",
   "version": "3.12.5"
  }
 },
 "nbformat": 4,
 "nbformat_minor": 5
}
