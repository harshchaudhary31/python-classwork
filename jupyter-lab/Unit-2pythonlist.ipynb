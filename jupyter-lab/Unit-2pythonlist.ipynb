{
 "cells": [
  {
   "cell_type": "markdown",
   "id": "998da2fd-cc28-4a65-a2cd-94388e4a8b7e",
   "metadata": {},
   "source": [
    "## List"
   ]
  },
  {
   "cell_type": "markdown",
   "id": "131a1496-4302-4602-ae2b-402e4d2a508d",
   "metadata": {},
   "source": [
    "### List are stored in square bracket ."
   ]
  },
  {
   "cell_type": "code",
   "execution_count": 1,
   "id": "c97ff734-c032-4053-94e1-3a05c666fa07",
   "metadata": {},
   "outputs": [],
   "source": [
    "listofInt= [1 , 3 , 5 , 8.0 , \"a\"]\n"
   ]
  },
  {
   "cell_type": "code",
   "execution_count": 2,
   "id": "e83b89c3-1750-46f9-a0e3-8ffa08eaacc7",
   "metadata": {},
   "outputs": [
    {
     "data": {
      "text/plain": [
       "5"
      ]
     },
     "execution_count": 2,
     "metadata": {},
     "output_type": "execute_result"
    }
   ],
   "source": [
    "len(listofInt)"
   ]
  },
  {
   "cell_type": "code",
   "execution_count": 3,
   "id": "ab52717a-c852-4abb-a89b-97ac35de14e3",
   "metadata": {},
   "outputs": [
    {
     "data": {
      "text/plain": [
       "8.0"
      ]
     },
     "execution_count": 3,
     "metadata": {},
     "output_type": "execute_result"
    }
   ],
   "source": [
    "listofInt[-2]"
   ]
  },
  {
   "cell_type": "markdown",
   "id": "622efd10-dcb6-41c9-bdd7-610b14af001c",
   "metadata": {},
   "source": [
    "##### List is mutable "
   ]
  },
  {
   "cell_type": "code",
   "execution_count": 5,
   "id": "91e938a4-3818-454f-842f-aa3d4a3e773a",
   "metadata": {},
   "outputs": [],
   "source": [
    "a=[1,2]\n",
    "b=[3,4]"
   ]
  },
  {
   "cell_type": "code",
   "execution_count": 8,
   "id": "cab3b020-98ea-434a-bcc7-df1db546b5b3",
   "metadata": {},
   "outputs": [
    {
     "name": "stdout",
     "output_type": "stream",
     "text": [
      "[[1, 2], [3, 4]]\n"
     ]
    }
   ],
   "source": [
    "c=[a,b]\n",
    "print(c)"
   ]
  },
  {
   "cell_type": "markdown",
   "id": "1d095d96-3938-4ce9-85c3-9e8f10a0927e",
   "metadata": {},
   "source": [
    "First will row ,second will tell column\n"
   ]
  },
  {
   "cell_type": "code",
   "execution_count": 9,
   "id": "6a40be7a-57e7-4dde-b87a-e98bbb21a431",
   "metadata": {},
   "outputs": [
    {
     "data": {
      "text/plain": [
       "([3, 4], [0])"
      ]
     },
     "execution_count": 9,
     "metadata": {},
     "output_type": "execute_result"
    }
   ],
   "source": [
    "c[1],[0]"
   ]
  },
  {
   "cell_type": "code",
   "execution_count": 10,
   "id": "b296fc2d-e871-4f0e-9246-736d97a89a0d",
   "metadata": {},
   "outputs": [
    {
     "data": {
      "text/plain": [
       "[1, 2, 1, 2]"
      ]
     },
     "execution_count": 10,
     "metadata": {},
     "output_type": "execute_result"
    }
   ],
   "source": [
    "a*2"
   ]
  },
  {
   "cell_type": "markdown",
   "id": "d0bdee2b-db07-41d9-a161-139070048586",
   "metadata": {},
   "source": [
    "when we don't want to change value in the list \n"
   ]
  },
  {
   "cell_type": "code",
   "execution_count": 11,
   "id": "c238d3a8-c9a2-4b5b-9720-034761f3aa70",
   "metadata": {},
   "outputs": [
    {
     "data": {
      "text/plain": [
       "10"
      ]
     },
     "execution_count": 11,
     "metadata": {},
     "output_type": "execute_result"
    }
   ],
   "source": [
    "a=(10,11)# tuple\n",
    "a[0]"
   ]
  },
  {
   "cell_type": "markdown",
   "id": "a2ed7b7e-508e-450f-90f2-bcfd7c7bfe91",
   "metadata": {},
   "source": [
    "Seta is a list of unique value\n"
   ]
  },
  {
   "cell_type": "code",
   "execution_count": 12,
   "id": "2556658a-ec07-4220-ba17-03d3b6bf708a",
   "metadata": {},
   "outputs": [
    {
     "name": "stdout",
     "output_type": "stream",
     "text": [
      "{1, 2, 3}\n"
     ]
    }
   ],
   "source": [
    "seta={1,2,3} #seta\n",
    "print(seta)\n"
   ]
  },
  {
   "cell_type": "markdown",
   "id": "0618b06a-4fdd-4997-b481-2fc0881cf808",
   "metadata": {},
   "source": [
    "## Dictionary"
   ]
  },
  {
   "cell_type": "code",
   "execution_count": 13,
   "id": "f8e95ee7-99ea-4b5a-89c2-d005fba25856",
   "metadata": {},
   "outputs": [
    {
     "name": "stdout",
     "output_type": "stream",
     "text": [
      "{'name': 'Dhruv', 'Batch': 'B1'}\n"
     ]
    }
   ],
   "source": [
    "dictionaryA={\"name\" : \"Dhruv\" , \"Batch\" :\"B1\"}\n",
    "# key:value\n",
    "print(dictionaryA)"
   ]
  },
  {
   "cell_type": "code",
   "execution_count": 14,
   "id": "ef90f336-e08a-4e1c-94c5-3abffb197720",
   "metadata": {},
   "outputs": [
    {
     "data": {
      "text/plain": [
       "'B1'"
      ]
     },
     "execution_count": 14,
     "metadata": {},
     "output_type": "execute_result"
    }
   ],
   "source": [
    "dictionaryA[\"Batch\"]"
   ]
  },
  {
   "cell_type": "code",
   "execution_count": 18,
   "id": "b0432b59-d987-452d-b403-1ecc9749dec0",
   "metadata": {},
   "outputs": [
    {
     "name": "stdout",
     "output_type": "stream",
     "text": [
      "Help on dict object:\n",
      "\n",
      "class dict(object)\n",
      " |  dict() -> new empty dictionary\n",
      " |  dict(mapping) -> new dictionary initialized from a mapping object's\n",
      " |      (key, value) pairs\n",
      " |  dict(iterable) -> new dictionary initialized as if via:\n",
      " |      d = {}\n",
      " |      for k, v in iterable:\n",
      " |          d[k] = v\n",
      " |  dict(**kwargs) -> new dictionary initialized with the name=value pairs\n",
      " |      in the keyword argument list.  For example:  dict(one=1, two=2)\n",
      " |\n",
      " |  Built-in subclasses:\n",
      " |      StgDict\n",
      " |\n",
      " |  Methods defined here:\n",
      " |\n",
      " |  __contains__(self, key, /)\n",
      " |      True if the dictionary has the specified key, else False.\n",
      " |\n",
      " |  __delitem__(self, key, /)\n",
      " |      Delete self[key].\n",
      " |\n",
      " |  __eq__(self, value, /)\n",
      " |      Return self==value.\n",
      " |\n",
      " |  __ge__(self, value, /)\n",
      " |      Return self>=value.\n",
      " |\n",
      " |  __getattribute__(self, name, /)\n",
      " |      Return getattr(self, name).\n",
      " |\n",
      " |  __getitem__(self, key, /)\n",
      " |      Return self[key].\n",
      " |\n",
      " |  __gt__(self, value, /)\n",
      " |      Return self>value.\n",
      " |\n",
      " |  __init__(self, /, *args, **kwargs)\n",
      " |      Initialize self.  See help(type(self)) for accurate signature.\n",
      " |\n",
      " |  __ior__(self, value, /)\n",
      " |      Return self|=value.\n",
      " |\n",
      " |  __iter__(self, /)\n",
      " |      Implement iter(self).\n",
      " |\n",
      " |  __le__(self, value, /)\n",
      " |      Return self<=value.\n",
      " |\n",
      " |  __len__(self, /)\n",
      " |      Return len(self).\n",
      " |\n",
      " |  __lt__(self, value, /)\n",
      " |      Return self<value.\n",
      " |\n",
      " |  __ne__(self, value, /)\n",
      " |      Return self!=value.\n",
      " |\n",
      " |  __or__(self, value, /)\n",
      " |      Return self|value.\n",
      " |\n",
      " |  __repr__(self, /)\n",
      " |      Return repr(self).\n",
      " |\n",
      " |  __reversed__(self, /)\n",
      " |      Return a reverse iterator over the dict keys.\n",
      " |\n",
      " |  __ror__(self, value, /)\n",
      " |      Return value|self.\n",
      " |\n",
      " |  __setitem__(self, key, value, /)\n",
      " |      Set self[key] to value.\n",
      " |\n",
      " |  __sizeof__(...)\n",
      " |      D.__sizeof__() -> size of D in memory, in bytes\n",
      " |\n",
      " |  clear(...)\n",
      " |      D.clear() -> None.  Remove all items from D.\n",
      " |\n",
      " |  copy(...)\n",
      " |      D.copy() -> a shallow copy of D\n",
      " |\n",
      " |  get(self, key, default=None, /)\n",
      " |      Return the value for key if key is in the dictionary, else default.\n",
      " |\n",
      " |  items(...)\n",
      " |      D.items() -> a set-like object providing a view on D's items\n",
      " |\n",
      " |  keys(...)\n",
      " |      D.keys() -> a set-like object providing a view on D's keys\n",
      " |\n",
      " |  pop(...)\n",
      " |      D.pop(k[,d]) -> v, remove specified key and return the corresponding value.\n",
      " |\n",
      " |      If the key is not found, return the default if given; otherwise,\n",
      " |      raise a KeyError.\n",
      " |\n",
      " |  popitem(self, /)\n",
      " |      Remove and return a (key, value) pair as a 2-tuple.\n",
      " |\n",
      " |      Pairs are returned in LIFO (last-in, first-out) order.\n",
      " |      Raises KeyError if the dict is empty.\n",
      " |\n",
      " |  setdefault(self, key, default=None, /)\n",
      " |      Insert key with a value of default if key is not in the dictionary.\n",
      " |\n",
      " |      Return the value for key if key is in the dictionary, else default.\n",
      " |\n",
      " |  update(...)\n",
      " |      D.update([E, ]**F) -> None.  Update D from dict/iterable E and F.\n",
      " |      If E is present and has a .keys() method, then does:  for k in E: D[k] = E[k]\n",
      " |      If E is present and lacks a .keys() method, then does:  for k, v in E: D[k] = v\n",
      " |      In either case, this is followed by: for k in F:  D[k] = F[k]\n",
      " |\n",
      " |  values(...)\n",
      " |      D.values() -> an object providing a view on D's values\n",
      " |\n",
      " |  ----------------------------------------------------------------------\n",
      " |  Class methods defined here:\n",
      " |\n",
      " |  __class_getitem__(...)\n",
      " |      See PEP 585\n",
      " |\n",
      " |  fromkeys(iterable, value=None, /)\n",
      " |      Create a new dictionary with keys from iterable and values set to value.\n",
      " |\n",
      " |  ----------------------------------------------------------------------\n",
      " |  Static methods defined here:\n",
      " |\n",
      " |  __new__(*args, **kwargs)\n",
      " |      Create and return a new object.  See help(type) for accurate signature.\n",
      " |\n",
      " |  ----------------------------------------------------------------------\n",
      " |  Data and other attributes defined here:\n",
      " |\n",
      " |  __hash__ = None\n",
      "\n"
     ]
    }
   ],
   "source": [
    "help(dictionaryA)"
   ]
  },
  {
   "cell_type": "markdown",
   "id": "31b7048e-3420-4f62-aedd-1135557e1aad",
   "metadata": {},
   "source": [
    "Ques - Write a program that take user input in numeric form and print it in table form"
   ]
  },
  {
   "cell_type": "code",
   "execution_count": null,
   "id": "84a95aa4-6054-4432-aa10-c8fc20050df5",
   "metadata": {},
   "outputs": [],
   "source": [
    "Sol"
   ]
  },
  {
   "cell_type": "code",
   "execution_count": 19,
   "id": "4192d064-80af-460b-a979-4f441536b53e",
   "metadata": {},
   "outputs": [
    {
     "name": "stdin",
     "output_type": "stream",
     "text": [
      "Enter the number 5\n"
     ]
    }
   ],
   "source": [
    "num =int(input(\"Enter the number\"))"
   ]
  },
  {
   "cell_type": "code",
   "execution_count": 21,
   "id": "9fb3e72e-ba03-4868-af40-01534f263ba4",
   "metadata": {},
   "outputs": [
    {
     "name": "stdout",
     "output_type": "stream",
     "text": [
      "5 x 1 =5\n",
      "5 x 2 =10\n",
      "5 x 3 =15\n",
      "5 x 4 =20\n",
      "5 x 5 =25\n",
      "5 x 6 =30\n",
      "5 x 7 =35\n",
      "5 x 8 =40\n",
      "5 x 9 =45\n",
      "5 x 10 =50\n"
     ]
    }
   ],
   "source": [
    "for i in range (1,11):\n",
    "    print(f\"{num} x {i} ={num*i}\") \n"
   ]
  },
  {
   "cell_type": "markdown",
   "id": "beb0cc9a-a69b-4f7d-be36-3486b6763b4f",
   "metadata": {},
   "source": [
    "## Functions and arguments"
   ]
  },
  {
   "cell_type": "code",
   "execution_count": 23,
   "id": "5e1dd1d0-bb8b-47bb-88aa-a79b102a4afd",
   "metadata": {},
   "outputs": [],
   "source": [
    "## def functionName(arguments,arguments):\n",
    "    #function defination"
   ]
  },
  {
   "cell_type": "markdown",
   "id": "3aede8e3-5ba7-4aef-b770-8e47c52f28e4",
   "metadata": {},
   "source": [
    "Ques - Write a function that gives us sum , average,min and max of all the value passed as arguments . like 10,20.30"
   ]
  },
  {
   "cell_type": "code",
   "execution_count": 25,
   "id": "b26d019d-7b7a-4876-a937-d9f3a35c1646",
   "metadata": {},
   "outputs": [
    {
     "ename": "NameError",
     "evalue": "name 'infofn' is not defined",
     "output_type": "error",
     "traceback": [
      "\u001b[1;31m---------------------------------------------------------------------------\u001b[0m",
      "\u001b[1;31mNameError\u001b[0m                                 Traceback (most recent call last)",
      "Cell \u001b[1;32mIn[25], line 1\u001b[0m\n\u001b[1;32m----> 1\u001b[0m infofn(\u001b[38;5;241m10\u001b[39m,\u001b[38;5;241m20\u001b[39m,\u001b[38;5;241m30\u001b[39m)\n",
      "\u001b[1;31mNameError\u001b[0m: name 'infofn' is not defined"
     ]
    }
   ],
   "source": [
    "infofn(10,20,30)\n"
   ]
  },
  {
   "cell_type": "code",
   "execution_count": 1,
   "id": "e0c3781b-0589-4ad4-a1c6-4ce0b3be586f",
   "metadata": {},
   "outputs": [],
   "source": [
    "def fun(num1 ,num2 ,num3):\n",
    "    sum=num1+num2+num3\n",
    "    average=sum/3\n",
    "\n",
    "    print(f\"(sum of values is : {sum}\")\n",
    "    print(f\"(average of value : {average}\")\n",
    "    \n"
   ]
  },
  {
   "cell_type": "markdown",
   "id": "beb80a2f-e151-4b30-a1f7-f5292782ac54",
   "metadata": {},
   "source": [
    "## Naming variable \n",
    "Snake case"
   ]
  },
  {
   "cell_type": "markdown",
   "id": "610257f8-4a25-479d-b680-944e485ff845",
   "metadata": {},
   "source": [
    "\n",
    "Question - Create a list a size A user have 3*3 matrix store the matrix in a variable copy this matrix is another variable and then in the copied matrix multiply each value by constant and store the result in place after this step print both the matrix ?\n"
   ]
  },
  {
   "cell_type": "code",
   "execution_count": 1,
   "id": "ae5d6726-40b6-4e3b-a1ee-c0d7589f2967",
   "metadata": {},
   "outputs": [
    {
     "name": "stdout",
     "output_type": "stream",
     "text": [
      "Original Matrix (A):\n",
      "[[1 2 3]\n",
      " [4 5 6]\n",
      " [7 8 9]]\n",
      "\n",
      "Modified Matrix (B) after multiplication by 2:\n",
      "[[ 2  4  6]\n",
      " [ 8 10 12]\n",
      " [14 16 18]]\n"
     ]
    }
   ],
   "source": [
    "import numpy as np\n",
    "\n",
    "# Create a 3x3 matrix\n",
    "A = np.array([[1, 2, 3],\n",
    "              [4, 5, 6],\n",
    "              [7, 8, 9]])\n",
    "\n",
    "# Copy the matrix to another variable\n",
    "B = A.copy()\n",
    "\n",
    "# Multiply each value in the copied matrix by a constant, e.g., 2\n",
    "B = B * 2\n",
    "\n",
    "# Print both matrices\n",
    "print(\"Original Matrix (A):\")\n",
    "print(A)\n",
    "\n",
    "print(\"\\nModified Matrix (B) after multiplication by 2:\")\n",
    "print(B)\n"
   ]
  },
  {
   "cell_type": "markdown",
   "id": "02c18e1f-18e9-412f-b2eb-7fd97c2d57b7",
   "metadata": {},
   "source": [
    "## Deep copy concept\n",
    "\n"
   ]
  },
  {
   "cell_type": "code",
   "execution_count": null,
   "id": "6e5b3db8-ffd5-4483-a617-fd293731ef2a",
   "metadata": {},
   "outputs": [],
   "source": [
    "import copy "
   ]
  }
 ],
 "metadata": {
  "kernelspec": {
   "display_name": "Python 3 (ipykernel)",
   "language": "python",
   "name": "python3"
  },
  "language_info": {
   "codemirror_mode": {
    "name": "ipython",
    "version": 3
   },
   "file_extension": ".py",
   "mimetype": "text/x-python",
   "name": "python",
   "nbconvert_exporter": "python",
   "pygments_lexer": "ipython3",
   "version": "3.12.4"
  }
 },
 "nbformat": 4,
 "nbformat_minor": 5
}
